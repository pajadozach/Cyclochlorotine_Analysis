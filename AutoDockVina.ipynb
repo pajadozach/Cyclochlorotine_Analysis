{
 "cells": [
  {
   "cell_type": "code",
   "execution_count": 8,
   "id": "b7dfb1e2-97cc-49ad-8f06-37250c059c34",
   "metadata": {},
   "outputs": [
    {
     "name": "stdout",
     "output_type": "stream",
     "text": [
      "Requirement already satisfied: pip in /usr/local/lib/python3.11/dist-packages (25.2)\n",
      "\u001b[33mWARNING: Running pip as the 'root' user can result in broken permissions and conflicting behaviour with the system package manager, possibly rendering your system unusable. It is recommended to use a virtual environment instead: https://pip.pypa.io/warnings/venv. Use the --root-user-action option if you know what you are doing and want to suppress this warning.\u001b[0m\u001b[33m\n",
      "Reading package lists... Done\n",
      "Building dependency tree... Done\n",
      "Reading state information... Done\n",
      "autodock-vina is already the newest version (1.2.3-2).\n",
      "0 upgraded, 0 newly installed, 0 to remove and 131 not upgraded.\n",
      "Collecting plip\n",
      "  Using cached plip-2.4.0.tar.gz (84 kB)\n",
      "  Preparing metadata (setup.py) ... \u001b[?25ldone\n",
      "\u001b[?25hRequirement already satisfied: numpy in /usr/local/lib/python3.11/dist-packages (from plip) (1.26.4)\n",
      "Collecting lxml (from plip)\n",
      "  Using cached lxml-6.0.1-cp311-cp311-manylinux_2_26_x86_64.manylinux_2_28_x86_64.whl.metadata (3.8 kB)\n",
      "Using cached lxml-6.0.1-cp311-cp311-manylinux_2_26_x86_64.manylinux_2_28_x86_64.whl (5.2 MB)\n",
      "Building wheels for collected packages: plip\n",
      "\u001b[33m  DEPRECATION: Building 'plip' using the legacy setup.py bdist_wheel mechanism, which will be removed in a future version. pip 25.3 will enforce this behaviour change. A possible replacement is to use the standardized build interface by setting the `--use-pep517` option, (possibly combined with `--no-build-isolation`), or adding a `pyproject.toml` file to the source tree of 'plip'. Discussion can be found at https://github.com/pypa/pip/issues/6334\u001b[0m\u001b[33m\n",
      "\u001b[0m  Building wheel for plip (setup.py) ... \u001b[?25ldone\n",
      "\u001b[?25h  Created wheel for plip: filename=plip-2.4.0-py3-none-any.whl size=78651 sha256=6054d4da62a8d2cd8efd17933c19778cb8948e1b271f399a4a93e8df0574a1d9\n",
      "  Stored in directory: /root/.cache/pip/wheels/91/e4/d1/cef476eecf18639fd2da22a81110489102c9821875975c1945\n",
      "Successfully built plip\n",
      "Installing collected packages: lxml, plip\n",
      "\u001b[2K   \u001b[90m━━━━━━━━━━━━━━━━━━━━━━━━━━━━━━━━━━━━━━━━\u001b[0m \u001b[32m2/2\u001b[0m [plip][32m1/2\u001b[0m [plip]\n",
      "\u001b[1A\u001b[2KSuccessfully installed lxml-6.0.1 plip-2.4.0\n",
      "\u001b[33mWARNING: Running pip as the 'root' user can result in broken permissions and conflicting behaviour with the system package manager, possibly rendering your system unusable. It is recommended to use a virtual environment instead: https://pip.pypa.io/warnings/venv. Use the --root-user-action option if you know what you are doing and want to suppress this warning.\u001b[0m\u001b[33m\n",
      "\u001b[0m"
     ]
    }
   ],
   "source": [
    "!python3 -m pip install --upgrade pip\n",
    "!apt install autodock-vina -y\n",
    "!pip install plip"
   ]
  },
  {
   "cell_type": "code",
   "execution_count": 22,
   "id": "fe5f08ab-b281-403b-af80-3f5cd3e74195",
   "metadata": {},
   "outputs": [
    {
     "name": "stdout",
     "output_type": "stream",
     "text": [
      "AutoDock Vina v1.2.3\n",
      "#################################################################\n",
      "# If you used AutoDock Vina in your work, please cite:          #\n",
      "#                                                               #\n",
      "# J. Eberhardt, D. Santos-Martins, A. F. Tillack, and S. Forli  #\n",
      "# AutoDock Vina 1.2.0: New Docking Methods, Expanded Force      #\n",
      "# Field, and Python Bindings, J. Chem. Inf. Model. (2021)       #\n",
      "# DOI 10.1021/acs.jcim.1c00203                                  #\n",
      "#                                                               #\n",
      "# O. Trott, A. J. Olson,                                        #\n",
      "# AutoDock Vina: improving the speed and accuracy of docking    #\n",
      "# with a new scoring function, efficient optimization and       #\n",
      "# multithreading, J. Comp. Chem. (2010)                         #\n",
      "# DOI 10.1002/jcc.21334                                         #\n",
      "#                                                               #\n",
      "# Please see https://github.com/ccsb-scripps/AutoDock-Vina for  #\n",
      "# more information.                                             #\n",
      "#################################################################\n",
      "\n",
      "Scoring function : vina\n",
      "Rigid receptor: HSA_Target/4L9K/4l9k.pdbqt\n",
      "Ligand: Ligand_Pubchem_Data/Cyclochlorotine/3D/Cyclochlorotine3D.pdbqt\n",
      "Grid center: X -8.4765 Y -8.007 Z 8.904\n",
      "Grid size  : X 18.213 Y 16.894 Z 18.856\n",
      "Grid space : 0.375\n",
      "Exhaustiveness: 32\n",
      "CPU: 0\n",
      "Verbosity: 1\n",
      "\n",
      "Computing Vina grid ... done.\n",
      "Performing docking (random seed: 411499056) ... \n",
      "0%   10   20   30   40   50   60   70   80   90   100%\n",
      "|----|----|----|----|----|----|----|----|----|----|\n",
      "***************************************************\n",
      "\n",
      "mode |   affinity | dist from best mode\n",
      "     | (kcal/mol) | rmsd l.b.| rmsd u.b.\n",
      "-----+------------+----------+----------\n",
      "   1       -6.884          0          0\n",
      "   2       -6.165      1.916      4.843\n",
      "   3       -6.016      3.354      8.522\n",
      "   4       -6.003      4.881      8.799\n",
      "   5       -5.583      5.007      7.529\n",
      "   6       -5.139      3.833      6.908\n",
      "   7       -4.765      4.697      7.896\n",
      "   8       -4.689       3.79      7.573\n",
      "   9       -4.304      1.623      1.794\n"
     ]
    }
   ],
   "source": [
    "!vina --receptor HSA_Target/4L9K/4l9k.pdbqt \\\n",
    "      --ligand Ligand_Pubchem_Data/Cyclochlorotine/3D/Cyclochlorotine3D.pdbqt \\\n",
    "      --config dockprep/4l9k-CC-Site1.txt \\\n",
    "      --exhaustiveness=32 --out results/4l9k_cc_site1.pdbqt"
   ]
  },
  {
   "cell_type": "code",
   "execution_count": 31,
   "id": "cb3a7726-f566-497d-adb4-8b38c071f811",
   "metadata": {},
   "outputs": [
    {
     "name": "stdout",
     "output_type": "stream",
     "text": [
      "AutoDock Vina v1.2.3\n",
      "#################################################################\n",
      "# If you used AutoDock Vina in your work, please cite:          #\n",
      "#                                                               #\n",
      "# J. Eberhardt, D. Santos-Martins, A. F. Tillack, and S. Forli  #\n",
      "# AutoDock Vina 1.2.0: New Docking Methods, Expanded Force      #\n",
      "# Field, and Python Bindings, J. Chem. Inf. Model. (2021)       #\n",
      "# DOI 10.1021/acs.jcim.1c00203                                  #\n",
      "#                                                               #\n",
      "# O. Trott, A. J. Olson,                                        #\n",
      "# AutoDock Vina: improving the speed and accuracy of docking    #\n",
      "# with a new scoring function, efficient optimization and       #\n",
      "# multithreading, J. Comp. Chem. (2010)                         #\n",
      "# DOI 10.1002/jcc.21334                                         #\n",
      "#                                                               #\n",
      "# Please see https://github.com/ccsb-scripps/AutoDock-Vina for  #\n",
      "# more information.                                             #\n",
      "#################################################################\n",
      "\n",
      "Scoring function : vina\n",
      "Rigid receptor: HSA_Target/4L9K/4l9k.pdbqt\n",
      "Ligand: Ligand_Pubchem_Data/Cyclochlorotine/3D/Cyclochlorotine3D.pdbqt\n",
      "Grid center: X 6.2 Y -8 Z 0\n",
      "Grid size  : X 21 Y 27 Z 30\n",
      "Grid space : 0.375\n",
      "Exhaustiveness: 32\n",
      "CPU: 0\n",
      "Verbosity: 1\n",
      "\n",
      "Computing Vina grid ... done.\n",
      "Performing docking (random seed: 1510500259) ... \n",
      "0%   10   20   30   40   50   60   70   80   90   100%\n",
      "|----|----|----|----|----|----|----|----|----|----|\n",
      "***************************************************\n",
      "\n",
      "mode |   affinity | dist from best mode\n",
      "     | (kcal/mol) | rmsd l.b.| rmsd u.b.\n",
      "-----+------------+----------+----------\n",
      "   1       -8.364          0          0\n",
      "   2       -8.076       1.26      1.415\n",
      "   3       -7.905      2.217      2.766\n",
      "   4       -7.842       2.22      4.879\n",
      "   5       -7.471       3.12      4.243\n",
      "   6       -7.418       3.04      7.638\n",
      "   7       -7.311      3.874       8.39\n",
      "   8       -7.087      2.871      6.807\n",
      "   9       -7.053      1.978       4.96\n"
     ]
    }
   ],
   "source": [
    "!vina --receptor HSA_Target/4L9K/4l9k.pdbqt \\\n",
    "      --ligand Ligand_Pubchem_Data/Cyclochlorotine/3D/Cyclochlorotine3D.pdbqt \\\n",
    "      --config dockprep/4l9k-CC-Site1.txt \\\n",
    "      --exhaustiveness=32 --out results/4l9k_cc_site1.pdbqt"
   ]
  },
  {
   "cell_type": "code",
   "execution_count": 15,
   "id": "11d78eee-b2fa-4f38-8da9-298d213a71c5",
   "metadata": {},
   "outputs": [
    {
     "name": "stdout",
     "output_type": "stream",
     "text": [
      "None\n",
      "2025-08-26 11:46:37,713 [INFO] [plipcmd.py:134] plip.plipcmd: Protein-Ligand Interaction Profiler (PLIP) 2.4.0\n",
      "2025-08-26 11:46:37,713 [INFO] [plipcmd.py:135] plip.plipcmd: brought to you by: PharmAI GmbH (2020-2021) - www.pharm.ai - hello@pharm.ai\n",
      "2025-08-26 11:46:37,714 [INFO] [plipcmd.py:136] plip.plipcmd: please cite: Adasme,M. et al. PLIP 2021: expanding the scope of the protein-ligand interaction profiler to DNA and RNA. Nucl. Acids Res. (05 May 2021), gkab294. doi: 10.1093/nar/gkab294\n",
      "2025-08-26 11:46:37,715 [INFO] [plipcmd.py:60] plip.plipcmd: starting analysis of complex_4l9k_cc_site1_1.pdb\n",
      "2025-08-26 11:46:38,672 [INFO] [plipcmd.py:175] plip.plipcmd: finished analysis, find the result files in results/4l9k-CC-Site1/\n"
     ]
    }
   ],
   "source": [
    "!plip -f Results/4l9k-CC-Site1/complex_4l9k_cc_site1_1.pdb -o results/4l9k-CC-Site1/"
   ]
  },
  {
   "cell_type": "code",
   "execution_count": 13,
   "id": "6f9e4285-82d2-4aa7-ae70-11552ae027dc",
   "metadata": {},
   "outputs": [
    {
     "ename": "IndentationError",
     "evalue": "unexpected indent (3114694230.py, line 6)",
     "output_type": "error",
     "traceback": [
      "\u001b[0;36m  Cell \u001b[0;32mIn[13], line 6\u001b[0;36m\u001b[0m\n\u001b[0;31m    ^ATOM/(||, /^HETATM/, {)\u001b[0m\n\u001b[0m    ^\u001b[0m\n\u001b[0;31mIndentationError\u001b[0m\u001b[0;31m:\u001b[0m unexpected indent\n"
     ]
    }
   ],
   "source": [
    "# 1) strip Vina headers & MODEL blocks from ligand\n",
    "!grep -v -E '^(MODEL|ENDMDL|REMARK|COMPND|AUTHOR|TITLE)' Results/4l9k-CC-Site1/4l9k_cc_site1_1.pdb > ligand_nometa.pdb\n",
    "\n",
    "# 2) format ligand lines into HETATM with resname LIG, chain Z, resSeq 999 (simple awk)\n",
    "awk 'BEGIN{n=1}\n",
    "  /^ATOM/ || /^HETATM/ {\n",
    "    # extract atom name (cols might vary), coords taken roughly from columns or tokens\n",
    "    # this awk expects a space-separated Vina style line; should be robust for most vina outputs\n",
    "    atomname=$3\n",
    "    x=$(NF-6); y=$(NF-5); z=$(NF-4)   # adjust indexing if your pdbqt layout differs\n",
    "    printf(\"HETATM%5d %-4s LIG Z%4d    %8.3f%8.3f%8.3f  1.00  0.00          %2s\\n\", n, atomname, 999, x+0, y+0, z+0, substr($0, length($0)-1)) \n",
    "    n++\n",
    "  }' ligand_nometa.pdb > ligand_clean.pdb\n",
    "\n",
    "# 3) remove headers from receptor (keep only ATOM lines)\n",
    "grep -v -E '^(MODEL|ENDMDL|REMARK|COMPND|AUTHOR|TITLE)' HSA_Target/4L9K/Prep_4l9k.pdb > receptor_nometa.pdb\n",
    "grep '^ATOM' receptor_nometa.pdb > receptor_atoms.pdb\n",
    "\n",
    "# 4) concat receptor atoms + ligand HETATM\n",
    "cat receptor_atoms.pdb ligand_clean.pdb > complex_for_plip.pdb\n",
    "echo \"END\" >> complex_for_plip.pdb\n"
   ]
  },
  {
   "cell_type": "code",
   "execution_count": null,
   "id": "7b29b57f-286c-470c-949a-7e92fbe8c891",
   "metadata": {},
   "outputs": [],
   "source": []
  }
 ],
 "metadata": {
  "kernelspec": {
   "display_name": "Python 3 (ipykernel)",
   "language": "python",
   "name": "python3"
  },
  "language_info": {
   "codemirror_mode": {
    "name": "ipython",
    "version": 3
   },
   "file_extension": ".py",
   "mimetype": "text/x-python",
   "name": "python",
   "nbconvert_exporter": "python",
   "pygments_lexer": "ipython3",
   "version": "3.11.0rc1"
  }
 },
 "nbformat": 4,
 "nbformat_minor": 5
}
