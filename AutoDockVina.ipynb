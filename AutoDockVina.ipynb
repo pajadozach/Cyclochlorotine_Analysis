{
 "cells": [
  {
   "cell_type": "markdown",
   "id": "de7aa8d4-9792-46ae-a0e2-f1aa7bc1d704",
   "metadata": {},
   "source": [
    "# Prereq"
   ]
  },
  {
   "cell_type": "code",
   "execution_count": 94,
   "id": "b7dfb1e2-97cc-49ad-8f06-37250c059c34",
   "metadata": {},
   "outputs": [
    {
     "name": "stdout",
     "output_type": "stream",
     "text": [
      "Requirement already satisfied: pip in /usr/local/lib/python3.11/dist-packages (25.2)\n",
      "\u001b[33mWARNING: Running pip as the 'root' user can result in broken permissions and conflicting behaviour with the system package manager, possibly rendering your system unusable. It is recommended to use a virtual environment instead: https://pip.pypa.io/warnings/venv. Use the --root-user-action option if you know what you are doing and want to suppress this warning.\u001b[0m\u001b[33m\n",
      "Reading package lists... Done\n",
      "Building dependency tree... Done\n",
      "Reading state information... Done\n",
      "autodock-vina is already the newest version (1.2.3-2).\n",
      "git is already the newest version (1:2.34.1-1ubuntu1.15).\n",
      "0 upgraded, 0 newly installed, 0 to remove and 130 not upgraded.\n",
      "Requirement already satisfied: plip in /usr/local/lib/python3.11/dist-packages (2.4.0)\n",
      "Requirement already satisfied: meeko in /usr/local/lib/python3.11/dist-packages (0.6.1)\n",
      "Collecting prody\n",
      "  Downloading prody-2.6.1.tar.gz (35.1 MB)\n",
      "\u001b[2K     \u001b[90m━━━━━━━━━━━━━━━━━━━━━━━━━━━━━━━━━━━━━━━━\u001b[0m \u001b[32m35.1/35.1 MB\u001b[0m \u001b[31m3.2 MB/s\u001b[0m  \u001b[33m0:00:10\u001b[0mm0:00:01\u001b[0m00:01\u001b[0m\n",
      "\u001b[?25h  Installing build dependencies ... \u001b[?25ldone\n",
      "\u001b[?25h  Getting requirements to build wheel ... \u001b[?25ldone\n",
      "\u001b[?25h  Preparing metadata (pyproject.toml) ... \u001b[?25ldone\n",
      "\u001b[?25hRequirement already satisfied: numpy in /usr/local/lib/python3.11/dist-packages (from plip) (1.26.4)\n",
      "Requirement already satisfied: lxml in /usr/local/lib/python3.11/dist-packages (from plip) (6.0.1)\n",
      "Requirement already satisfied: rdkit in /usr/local/lib/python3.11/dist-packages (from meeko) (2025.3.5)\n",
      "Requirement already satisfied: scipy in /usr/local/lib/python3.11/dist-packages (from meeko) (1.16.1)\n",
      "Requirement already satisfied: gemmi in /usr/local/lib/python3.11/dist-packages (from meeko) (0.7.3)\n",
      "Collecting biopython (from prody)\n",
      "  Downloading biopython-1.85-cp311-cp311-manylinux_2_17_x86_64.manylinux2014_x86_64.whl.metadata (13 kB)\n",
      "Requirement already satisfied: pyparsing<=3.1.1 in /usr/lib/python3/dist-packages (from prody) (2.4.7)\n",
      "Requirement already satisfied: Pillow in /usr/local/lib/python3.11/dist-packages (from rdkit->meeko) (10.4.0)\n",
      "Downloading biopython-1.85-cp311-cp311-manylinux_2_17_x86_64.manylinux2014_x86_64.whl (3.3 MB)\n",
      "\u001b[2K   \u001b[90m━━━━━━━━━━━━━━━━━━━━━━━━━━━━━━━━━━━━━━━━\u001b[0m \u001b[32m3.3/3.3 MB\u001b[0m \u001b[31m3.6 MB/s\u001b[0m  \u001b[33m0:00:00\u001b[0m eta \u001b[36m0:00:01\u001b[0mm\n",
      "\u001b[?25hBuilding wheels for collected packages: prody\n",
      "  Building wheel for prody (pyproject.toml) ... \u001b[?25ldone\n",
      "\u001b[?25h  Created wheel for prody: filename=prody-2.6.1-cp311-cp311-linux_x86_64.whl size=36499006 sha256=2add2d8148f1090d41f5bd66aa24b15c1ef48555656a1e956a8a55915c78f7da\n",
      "  Stored in directory: /root/.cache/pip/wheels/c1/f0/d2/42b08ebde1b316d1b7477373fe926adb297d9635b14ae7e711\n",
      "Successfully built prody\n",
      "Installing collected packages: biopython, prody\n",
      "\u001b[2K   \u001b[90m━━━━━━━━━━━━━━━━━━━━━━━━━━━━━━━━━━━━━━━━\u001b[0m \u001b[32m2/2\u001b[0m [prody]32m1/2\u001b[0m [prody]\n",
      "\u001b[1A\u001b[2KSuccessfully installed biopython-1.85 prody-2.6.1\n",
      "\u001b[33mWARNING: Running pip as the 'root' user can result in broken permissions and conflicting behaviour with the system package manager, possibly rendering your system unusable. It is recommended to use a virtual environment instead: https://pip.pypa.io/warnings/venv. Use the --root-user-action option if you know what you are doing and want to suppress this warning.\u001b[0m\u001b[33m\n",
      "\u001b[0m"
     ]
    }
   ],
   "source": [
    "!python3 -m pip install --upgrade pip\n",
    "!apt install autodock-vina git -y\n",
    "!pip install plip"
   ]
  },
  {
   "cell_type": "markdown",
   "id": "f97e2b9e-5c61-4cd0-afd6-813781d52da0",
   "metadata": {},
   "source": [
    "# Ligand Docking"
   ]
  },
  {
   "cell_type": "markdown",
   "id": "10b70ea6-b9d5-46b7-b56d-27ce90534684",
   "metadata": {},
   "source": [
    "## HOLO"
   ]
  },
  {
   "cell_type": "markdown",
   "id": "19c17327-3d52-4eac-a9af-e0f09bf1323d",
   "metadata": {},
   "source": [
    "### Enniatin A"
   ]
  },
  {
   "cell_type": "code",
   "execution_count": 146,
   "id": "cb3a7726-f566-497d-adb4-8b38c071f811",
   "metadata": {},
   "outputs": [
    {
     "name": "stdout",
     "output_type": "stream",
     "text": [
      "AutoDock Vina v1.2.3\n",
      "#################################################################\n",
      "# If you used AutoDock Vina in your work, please cite:          #\n",
      "#                                                               #\n",
      "# J. Eberhardt, D. Santos-Martins, A. F. Tillack, and S. Forli  #\n",
      "# AutoDock Vina 1.2.0: New Docking Methods, Expanded Force      #\n",
      "# Field, and Python Bindings, J. Chem. Inf. Model. (2021)       #\n",
      "# DOI 10.1021/acs.jcim.1c00203                                  #\n",
      "#                                                               #\n",
      "# O. Trott, A. J. Olson,                                        #\n",
      "# AutoDock Vina: improving the speed and accuracy of docking    #\n",
      "# with a new scoring function, efficient optimization and       #\n",
      "# multithreading, J. Comp. Chem. (2010)                         #\n",
      "# DOI 10.1002/jcc.21334                                         #\n",
      "#                                                               #\n",
      "# Please see https://github.com/ccsb-scripps/AutoDock-Vina for  #\n",
      "# more information.                                             #\n",
      "#################################################################\n",
      "\n",
      "Scoring function : vinardo\n",
      "Rigid receptor: HSA_Target/2BXD/2bxd_clean.pdbqt\n",
      "Ligand: Ligand_Pubchem_Data/EnniantinA/EnniatinA.pdbqt\n",
      "Grid center: X 2.7 Y -6.8 Z 7.8\n",
      "Grid size  : X 24.5 Y 20.7 Z 24.5\n",
      "Grid space : 0.375\n",
      "Exhaustiveness: 32\n",
      "CPU: 0\n",
      "Verbosity: 1\n",
      "\n",
      "Computing Vinardo grid ... done.\n",
      "Performing docking (random seed: -1472993740) ... \n",
      "0%   10   20   30   40   50   60   70   80   90   100%\n",
      "|----|----|----|----|----|----|----|----|----|----|\n",
      "***************************************************\n",
      "\n",
      "mode |   affinity | dist from best mode\n",
      "     | (kcal/mol) | rmsd l.b.| rmsd u.b.\n",
      "-----+------------+----------+----------\n",
      "   1       -8.029          0          0\n",
      "   2       -7.792      2.196       6.84\n",
      "   3       -7.784       1.81       6.39\n",
      "   4       -7.562      1.779      6.558\n",
      "   5        -7.43       2.29      7.204\n",
      "   6       -7.071      1.982      6.333\n",
      "   7       -6.018      2.148      6.372\n",
      "   8       -5.784       2.09      8.359\n",
      "   9       -5.689       1.78      6.591\n",
      "  10       -5.022       1.99      6.294\n",
      "  11       -4.427      2.652      6.649\n",
      "  12       -4.337      2.379      7.062\n",
      "  13       -4.211      2.554      7.097\n",
      "  14       -4.073      2.174      6.564\n",
      "  15        -2.21      2.179      6.132\n",
      "  16       -1.585      2.174      6.566\n",
      "  17      -0.9898      2.247      6.121\n",
      "  18      -0.7876      2.235      6.999\n",
      "  19        3.122      2.021      6.306\n",
      "  20        84.79      1.821      6.196\n"
     ]
    }
   ],
   "source": [
    "!vina --receptor HSA_Target/2BXD/2bxd_clean.pdbqt \\\n",
    "      --ligand Ligand_Pubchem_Data/EnniantinA/EnniatinA.pdbqt \\\n",
    "      --config dockprep/2bxd-site1.txt \\\n",
    "      --scoring vinardo \\\n",
    "      --exhaustiveness=32 --out Results/Site1/HOLO/ENA-Site1.pdbqt"
   ]
  },
  {
   "cell_type": "code",
   "execution_count": 117,
   "id": "7d531eea-010a-4ab2-bc75-9a658b4baa7f",
   "metadata": {},
   "outputs": [
    {
     "name": "stdout",
     "output_type": "stream",
     "text": [
      "8 molecules converted\n",
      "8 files output. The first is Results/Site1/HOLO/ENA-Site1_1.pdb\n"
     ]
    }
   ],
   "source": [
    "!obabel Results/Site1/HOLO/ENA-Site1.pdbqt -O Results/Site1/HOLO/ENA-Site1_.pdb -m"
   ]
  },
  {
   "cell_type": "code",
   "execution_count": 145,
   "id": "3d929165-7dd4-44e5-a710-4fa63e6161ca",
   "metadata": {},
   "outputs": [
    {
     "name": "stdout",
     "output_type": "stream",
     "text": [
      "AutoDock Vina v1.2.3\n",
      "#################################################################\n",
      "# If you used AutoDock Vina in your work, please cite:          #\n",
      "#                                                               #\n",
      "# J. Eberhardt, D. Santos-Martins, A. F. Tillack, and S. Forli  #\n",
      "# AutoDock Vina 1.2.0: New Docking Methods, Expanded Force      #\n",
      "# Field, and Python Bindings, J. Chem. Inf. Model. (2021)       #\n",
      "# DOI 10.1021/acs.jcim.1c00203                                  #\n",
      "#                                                               #\n",
      "# O. Trott, A. J. Olson,                                        #\n",
      "# AutoDock Vina: improving the speed and accuracy of docking    #\n",
      "# with a new scoring function, efficient optimization and       #\n",
      "# multithreading, J. Comp. Chem. (2010)                         #\n",
      "# DOI 10.1002/jcc.21334                                         #\n",
      "#                                                               #\n",
      "# Please see https://github.com/ccsb-scripps/AutoDock-Vina for  #\n",
      "# more information.                                             #\n",
      "#################################################################\n",
      "\n",
      "Scoring function : vinardo\n",
      "Rigid receptor: HSA_Target/2BXG/2bxg_clean.pdbqt\n",
      "Ligand: Ligand_Pubchem_Data/EnniantinA/EnniatinA.pdbqt\n",
      "Grid center: X 2 Y 4.5 Z -15\n",
      "Grid size  : X 24 Y 24 Z 24.6\n",
      "Grid space : 0.375\n",
      "Exhaustiveness: 32\n",
      "CPU: 0\n",
      "Verbosity: 1\n",
      "\n",
      "Computing Vinardo grid ... done.\n",
      "Performing docking (random seed: -1493661668) ... \n",
      "0%   10   20   30   40   50   60   70   80   90   100%\n",
      "|----|----|----|----|----|----|----|----|----|----|\n",
      "***************************************************\n",
      "\n",
      "mode |   affinity | dist from best mode\n",
      "     | (kcal/mol) | rmsd l.b.| rmsd u.b.\n",
      "-----+------------+----------+----------\n",
      "   1       -5.963          0          0\n",
      "   2       -4.302      2.944      7.979\n",
      "   3       -4.165       1.93      6.236\n",
      "   4       -3.571      4.874       9.49\n",
      "   5       -3.507      1.113      1.409\n",
      "   6       -3.278       3.05      8.017\n",
      "   7       -3.025      3.062      7.871\n",
      "   8       -3.006      3.247      9.251\n",
      "   9       -2.876      4.434      7.112\n",
      "  10       -2.855      5.053      9.774\n",
      "  11       -2.391      2.649      7.525\n",
      "  12       -2.067      2.212      7.203\n",
      "  13       -1.554      2.073      7.101\n",
      "  14       -1.499      3.831      8.991\n",
      "  15       -1.164      2.231      6.727\n",
      "  16       -0.873      2.039      6.224\n",
      "  17        8.835      2.182      4.144\n",
      "  18         14.8      1.669      6.526\n",
      "  19        18.97      2.093       7.97\n",
      "  20        185.2      4.493      9.156\n"
     ]
    }
   ],
   "source": [
    "!vina --receptor HSA_Target/2BXG/2bxg_clean.pdbqt \\\n",
    "      --ligand Ligand_Pubchem_Data/EnniantinA/EnniatinA.pdbqt \\\n",
    "      --config dockprep/2bxg-site2.txt \\\n",
    "      --scoring vinardo \\\n",
    "      --exhaustiveness=32 --out Results/Site2/HOLO/ENA-Site2.pdbqt"
   ]
  },
  {
   "cell_type": "code",
   "execution_count": 44,
   "id": "6e85b4ae-ea7f-46d7-ae8b-98d5919d6e68",
   "metadata": {},
   "outputs": [
    {
     "name": "stdout",
     "output_type": "stream",
     "text": [
      "12 molecules converted\n",
      "12 files output. The first is Results/ENA-Site2/ENA-Site2_1.pdb\n"
     ]
    }
   ],
   "source": [
    "!obabel Results/Site2/HOLO/ENA-Site2.pdbqt -O Results/Site2/HOLO/ENA-Site2_.pdb -m"
   ]
  },
  {
   "cell_type": "markdown",
   "id": "4117bccb-b4b9-4601-8831-67e6d6841ceb",
   "metadata": {
    "jp-MarkdownHeadingCollapsed": true
   },
   "source": [
    "### Enniatin A1"
   ]
  },
  {
   "cell_type": "code",
   "execution_count": 120,
   "id": "595fbf58-11c3-48bf-82be-f5b2377fc126",
   "metadata": {},
   "outputs": [
    {
     "name": "stdout",
     "output_type": "stream",
     "text": [
      "AutoDock Vina v1.2.3\n",
      "#################################################################\n",
      "# If you used AutoDock Vina in your work, please cite:          #\n",
      "#                                                               #\n",
      "# J. Eberhardt, D. Santos-Martins, A. F. Tillack, and S. Forli  #\n",
      "# AutoDock Vina 1.2.0: New Docking Methods, Expanded Force      #\n",
      "# Field, and Python Bindings, J. Chem. Inf. Model. (2021)       #\n",
      "# DOI 10.1021/acs.jcim.1c00203                                  #\n",
      "#                                                               #\n",
      "# O. Trott, A. J. Olson,                                        #\n",
      "# AutoDock Vina: improving the speed and accuracy of docking    #\n",
      "# with a new scoring function, efficient optimization and       #\n",
      "# multithreading, J. Comp. Chem. (2010)                         #\n",
      "# DOI 10.1002/jcc.21334                                         #\n",
      "#                                                               #\n",
      "# Please see https://github.com/ccsb-scripps/AutoDock-Vina for  #\n",
      "# more information.                                             #\n",
      "#################################################################\n",
      "\n",
      "Scoring function : vinardo\n",
      "Rigid receptor: HSA_Target/2BXD/2bxd_clean.pdbqt\n",
      "Ligand: Ligand_Pubchem_Data/EnniantinA1/EnniatinA1.pdbqt\n",
      "Grid center: X 2.7 Y -6.8 Z 7.8\n",
      "Grid size  : X 24.5 Y 20.7 Z 24.5\n",
      "Grid space : 0.375\n",
      "Exhaustiveness: 32\n",
      "CPU: 0\n",
      "Verbosity: 1\n",
      "\n",
      "Computing Vinardo grid ... done.\n",
      "Performing docking (random seed: -2033438021) ... \n",
      "0%   10   20   30   40   50   60   70   80   90   100%\n",
      "|----|----|----|----|----|----|----|----|----|----|\n",
      "***************************************************\n",
      "\n",
      "mode |   affinity | dist from best mode\n",
      "     | (kcal/mol) | rmsd l.b.| rmsd u.b.\n",
      "-----+------------+----------+----------\n",
      "   1       -7.199          0          0\n",
      "   2       -7.039      1.749      6.165\n",
      "   3       -6.893      1.793      6.507\n",
      "   4       -6.804       2.18      6.765\n",
      "   5       -6.679       2.31      6.763\n",
      "   6       -6.645      2.289      7.134\n",
      "   7       -6.288      1.827      6.166\n",
      "   8       -5.017      2.098       8.27\n",
      "   9       -4.912      2.149      7.107\n",
      "  10       -3.898      1.101      1.442\n",
      "  11       -2.428      2.125       7.15\n",
      "  12       -1.859      2.311      7.334\n",
      "  13       -1.808      1.704      2.551\n",
      "  14      -0.7161      2.408      6.072\n",
      "  15      -0.1697      2.481      4.784\n",
      "  16      0.04034      2.179      8.148\n",
      "  17        8.121      2.023      2.939\n",
      "  18        35.77      2.095      6.677\n",
      "  19        134.6      2.419      3.971\n",
      "  20         1226      2.329      8.117\n"
     ]
    }
   ],
   "source": [
    "!vina --receptor HSA_Target/2BXD/2bxd_clean.pdbqt \\\n",
    "      --ligand Ligand_Pubchem_Data/EnniantinA1/EnniatinA1.pdbqt \\\n",
    "      --config dockprep/2bxd-site1.txt \\\n",
    "      --scoring vinardo \\\n",
    "      --exhaustiveness=32 --out Results/Site1/HOLO/ENA1-Site1.pdbqt"
   ]
  },
  {
   "cell_type": "code",
   "execution_count": 121,
   "id": "fab3badb-73be-4260-ac1d-b11bc8f9c5eb",
   "metadata": {},
   "outputs": [
    {
     "name": "stdout",
     "output_type": "stream",
     "text": [
      "9 molecules converted\n",
      "9 files output. The first is Results/Site1/HOLO/ENA1-Site1_1.pdb\n"
     ]
    }
   ],
   "source": [
    "!obabel Results/Site1/HOLO/ENA1-Site1.pdbqt -O Results/Site1/HOLO/ENA1-Site1_.pdb -m"
   ]
  },
  {
   "cell_type": "code",
   "execution_count": 122,
   "id": "59c02ceb-6f2a-424d-a469-f9bdf4606ed3",
   "metadata": {},
   "outputs": [
    {
     "name": "stdout",
     "output_type": "stream",
     "text": [
      "AutoDock Vina v1.2.3\n",
      "#################################################################\n",
      "# If you used AutoDock Vina in your work, please cite:          #\n",
      "#                                                               #\n",
      "# J. Eberhardt, D. Santos-Martins, A. F. Tillack, and S. Forli  #\n",
      "# AutoDock Vina 1.2.0: New Docking Methods, Expanded Force      #\n",
      "# Field, and Python Bindings, J. Chem. Inf. Model. (2021)       #\n",
      "# DOI 10.1021/acs.jcim.1c00203                                  #\n",
      "#                                                               #\n",
      "# O. Trott, A. J. Olson,                                        #\n",
      "# AutoDock Vina: improving the speed and accuracy of docking    #\n",
      "# with a new scoring function, efficient optimization and       #\n",
      "# multithreading, J. Comp. Chem. (2010)                         #\n",
      "# DOI 10.1002/jcc.21334                                         #\n",
      "#                                                               #\n",
      "# Please see https://github.com/ccsb-scripps/AutoDock-Vina for  #\n",
      "# more information.                                             #\n",
      "#################################################################\n",
      "\n",
      "Scoring function : vinardo\n",
      "Rigid receptor: HSA_Target/2BXG/2bxg_clean.pdbqt\n",
      "Ligand: Ligand_Pubchem_Data/EnniantinA1/EnniatinA1.pdbqt\n",
      "Grid center: X 2 Y 4.5 Z -15\n",
      "Grid size  : X 24 Y 24 Z 24.6\n",
      "Grid space : 0.375\n",
      "Exhaustiveness: 32\n",
      "CPU: 0\n",
      "Verbosity: 1\n",
      "\n",
      "Computing Vinardo grid ... done.\n",
      "Performing docking (random seed: -1224077071) ... \n",
      "0%   10   20   30   40   50   60   70   80   90   100%\n",
      "|----|----|----|----|----|----|----|----|----|----|\n",
      "***************************************************\n",
      "\n",
      "mode |   affinity | dist from best mode\n",
      "     | (kcal/mol) | rmsd l.b.| rmsd u.b.\n",
      "-----+------------+----------+----------\n",
      "   1       -6.196          0          0\n",
      "   2       -4.425       4.81      9.673\n",
      "   3       -4.331      3.016      8.022\n",
      "   4       -4.113      2.059      6.266\n",
      "   5       -4.039      3.381      9.364\n",
      "   6       -3.708      2.025      4.941\n",
      "   7       -3.518       4.97       9.61\n",
      "   8       -2.988      4.354       8.98\n",
      "   9       -2.948      2.036      6.892\n",
      "  10       -2.687      4.603      7.191\n",
      "  11       -2.224      2.264      7.269\n",
      "  12       -1.967      4.212      8.749\n",
      "  13       -1.895      2.027      2.777\n",
      "  14        -1.77      3.411      5.719\n",
      "  15        -1.76      2.864       8.77\n",
      "  16       -1.078      2.309      6.863\n",
      "  17      -0.9166      2.469      8.426\n",
      "  18      -0.7845      2.385        6.2\n",
      "  19        7.271      2.046      6.117\n",
      "  20        255.8      1.951       8.05\n"
     ]
    }
   ],
   "source": [
    "!vina --receptor HSA_Target/2BXG/2bxg_clean.pdbqt \\\n",
    "      --ligand Ligand_Pubchem_Data/EnniantinA1/EnniatinA1.pdbqt \\\n",
    "      --config dockprep/2bxg-site2.txt \\\n",
    "      --scoring vinardo \\\n",
    "      --exhaustiveness=32 --out Results/Site2/HOLO/ENA1-Site2.pdbqt"
   ]
  },
  {
   "cell_type": "code",
   "execution_count": 123,
   "id": "f8076d16-7505-45f3-9e89-91b5d8bb49de",
   "metadata": {},
   "outputs": [
    {
     "name": "stdout",
     "output_type": "stream",
     "text": [
      "7 molecules converted\n",
      "7 files output. The first is Results/Site2/HOLO/ENA1-Site2_1.pdb\n"
     ]
    }
   ],
   "source": [
    "!obabel Results/Site2/HOLO/ENA1-Site2.pdbqt -O Results/Site2/HOLO/ENA1-Site2_.pdb -m"
   ]
  },
  {
   "cell_type": "markdown",
   "id": "a5aa731b-4e6c-471f-be4f-abf315fa41ef",
   "metadata": {
    "jp-MarkdownHeadingCollapsed": true
   },
   "source": [
    "### Enniantin B"
   ]
  },
  {
   "cell_type": "code",
   "execution_count": 124,
   "id": "669e743a-a448-4693-b0e6-f01603f2a20d",
   "metadata": {},
   "outputs": [
    {
     "name": "stdout",
     "output_type": "stream",
     "text": [
      "AutoDock Vina v1.2.3\n",
      "#################################################################\n",
      "# If you used AutoDock Vina in your work, please cite:          #\n",
      "#                                                               #\n",
      "# J. Eberhardt, D. Santos-Martins, A. F. Tillack, and S. Forli  #\n",
      "# AutoDock Vina 1.2.0: New Docking Methods, Expanded Force      #\n",
      "# Field, and Python Bindings, J. Chem. Inf. Model. (2021)       #\n",
      "# DOI 10.1021/acs.jcim.1c00203                                  #\n",
      "#                                                               #\n",
      "# O. Trott, A. J. Olson,                                        #\n",
      "# AutoDock Vina: improving the speed and accuracy of docking    #\n",
      "# with a new scoring function, efficient optimization and       #\n",
      "# multithreading, J. Comp. Chem. (2010)                         #\n",
      "# DOI 10.1002/jcc.21334                                         #\n",
      "#                                                               #\n",
      "# Please see https://github.com/ccsb-scripps/AutoDock-Vina for  #\n",
      "# more information.                                             #\n",
      "#################################################################\n",
      "\n",
      "Scoring function : vinardo\n",
      "Rigid receptor: HSA_Target/2BXD/2bxd_clean.pdbqt\n",
      "Ligand: Ligand_Pubchem_Data/EnniantinB/EnniatinB.pdbqt\n",
      "Grid center: X 2.7 Y -6.8 Z 7.8\n",
      "Grid size  : X 24.5 Y 20.7 Z 24.5\n",
      "Grid space : 0.375\n",
      "Exhaustiveness: 32\n",
      "CPU: 0\n",
      "Verbosity: 1\n",
      "\n",
      "Computing Vinardo grid ... done.\n",
      "Performing docking (random seed: 1058649059) ... \n",
      "0%   10   20   30   40   50   60   70   80   90   100%\n",
      "|----|----|----|----|----|----|----|----|----|----|\n",
      "***************************************************\n",
      "\n",
      "mode |   affinity | dist from best mode\n",
      "     | (kcal/mol) | rmsd l.b.| rmsd u.b.\n",
      "-----+------------+----------+----------\n",
      "   1       -5.144          0          0\n",
      "   2       -3.808      1.911       8.04\n",
      "   3       -2.133      2.136      6.631\n",
      "   4        -1.65     0.8475      1.219\n",
      "   5        -1.59      1.169       1.57\n",
      "   6      -0.7318      2.311       6.86\n",
      "   7      0.09042      2.024      6.471\n",
      "   8       0.4887      2.064      4.405\n",
      "   9        0.703      2.716      5.203\n",
      "  10       0.9607      2.091      6.659\n",
      "  11         1.39      2.036      6.483\n",
      "  12        1.619      2.118      4.172\n",
      "  13         2.34       1.73      6.971\n",
      "  14        2.657       2.11      7.092\n",
      "  15        3.455       1.92      8.016\n",
      "  16        18.73       1.88      7.491\n",
      "  17        28.08      1.253      1.677\n",
      "  18        81.47      5.401      8.628\n",
      "  19        89.95      2.071      6.629\n",
      "  20        126.5       2.16      6.241\n"
     ]
    }
   ],
   "source": [
    "!vina --receptor HSA_Target/2BXD/2bxd_clean.pdbqt \\\n",
    "      --ligand Ligand_Pubchem_Data/EnniantinB/EnniatinB.pdbqt \\\n",
    "      --config dockprep/2bxd-site1.txt \\\n",
    "      --scoring vinardo \\\n",
    "      --exhaustiveness=32 --out Results/Site1/HOLO/ENB-Site1.pdbqt"
   ]
  },
  {
   "cell_type": "code",
   "execution_count": 144,
   "id": "5ca19c54-924f-4edb-8505-62325bfc8569",
   "metadata": {},
   "outputs": [
    {
     "name": "stdout",
     "output_type": "stream",
     "text": [
      "2 molecules converted\n",
      "2 files output. The first is Results/Site1/HOLO/ENB-Site1_1.pdb\n"
     ]
    }
   ],
   "source": [
    "!obabel Results/Site1/HOLO/ENB-Site1.pdbqt -O Results/Site1/HOLO/ENB-Site1_.pdb -m"
   ]
  },
  {
   "cell_type": "code",
   "execution_count": 126,
   "id": "322a7025-a853-4cee-a98f-fd111b45cdd4",
   "metadata": {},
   "outputs": [
    {
     "name": "stdout",
     "output_type": "stream",
     "text": [
      "AutoDock Vina v1.2.3\n",
      "#################################################################\n",
      "# If you used AutoDock Vina in your work, please cite:          #\n",
      "#                                                               #\n",
      "# J. Eberhardt, D. Santos-Martins, A. F. Tillack, and S. Forli  #\n",
      "# AutoDock Vina 1.2.0: New Docking Methods, Expanded Force      #\n",
      "# Field, and Python Bindings, J. Chem. Inf. Model. (2021)       #\n",
      "# DOI 10.1021/acs.jcim.1c00203                                  #\n",
      "#                                                               #\n",
      "# O. Trott, A. J. Olson,                                        #\n",
      "# AutoDock Vina: improving the speed and accuracy of docking    #\n",
      "# with a new scoring function, efficient optimization and       #\n",
      "# multithreading, J. Comp. Chem. (2010)                         #\n",
      "# DOI 10.1002/jcc.21334                                         #\n",
      "#                                                               #\n",
      "# Please see https://github.com/ccsb-scripps/AutoDock-Vina for  #\n",
      "# more information.                                             #\n",
      "#################################################################\n",
      "\n",
      "Scoring function : vinardo\n",
      "Rigid receptor: HSA_Target/2BXG/2bxg_clean.pdbqt\n",
      "Ligand: Ligand_Pubchem_Data/EnniantinB/EnniatinB.pdbqt\n",
      "Grid center: X 2 Y 4.5 Z -15\n",
      "Grid size  : X 24 Y 24 Z 24.6\n",
      "Grid space : 0.375\n",
      "Exhaustiveness: 32\n",
      "CPU: 0\n",
      "Verbosity: 1\n",
      "\n",
      "Computing Vinardo grid ... done.\n",
      "Performing docking (random seed: 605934250) ... \n",
      "0%   10   20   30   40   50   60   70   80   90   100%\n",
      "|----|----|----|----|----|----|----|----|----|----|\n",
      "***************************************************\n",
      "\n",
      "mode |   affinity | dist from best mode\n",
      "     | (kcal/mol) | rmsd l.b.| rmsd u.b.\n",
      "-----+------------+----------+----------\n",
      "   1       -5.713          0          0\n",
      "   2       -5.213      1.477       1.79\n",
      "   3        -4.96       1.79      6.443\n",
      "   4       -4.829      2.698      6.524\n",
      "   5        -4.42      5.194      10.02\n",
      "   6       -4.222      3.576      8.064\n",
      "   7        -3.97      6.446      11.53\n",
      "   8       -3.797      4.214       8.32\n",
      "   9       -3.691      3.435      7.401\n",
      "  10       -2.844      2.772       5.82\n",
      "  11       -2.721      5.192      7.801\n",
      "  12       -2.311       1.89      6.088\n",
      "  13       -2.116        5.2      7.539\n",
      "  14           -2      2.643      8.319\n",
      "  15       -1.804      2.489      5.532\n",
      "  16       -1.372      2.019      8.033\n",
      "  17       -1.041      1.899      6.044\n",
      "  18        5.345      5.248      9.446\n",
      "  19        41.21      2.113      6.622\n",
      "  20        269.5      1.768      6.489\n"
     ]
    }
   ],
   "source": [
    "!vina --receptor HSA_Target/2BXG/2bxg_clean.pdbqt \\\n",
    "      --ligand Ligand_Pubchem_Data/EnniantinB/EnniatinB.pdbqt \\\n",
    "      --config dockprep/2bxg-site2.txt \\\n",
    "      --scoring vinardo \\\n",
    "      --exhaustiveness=32 --out Results/Site2/HOLO/ENB-Site2.pdbqt"
   ]
  },
  {
   "cell_type": "code",
   "execution_count": 127,
   "id": "a9754d1b-d24b-46b4-94f4-3ed9ad74fef5",
   "metadata": {},
   "outputs": [
    {
     "name": "stdout",
     "output_type": "stream",
     "text": [
      "11 molecules converted\n",
      "11 files output. The first is Results/Site2/HOLO/ENB-Site2_1.pdb\n"
     ]
    }
   ],
   "source": [
    "!obabel Results/Site2/HOLO/ENB-Site2.pdbqt -O Results/Site2/HOLO/ENB-Site2_.pdb -m"
   ]
  },
  {
   "cell_type": "markdown",
   "id": "44cac8cf-50a6-4ea8-9f3c-1c39979343ec",
   "metadata": {
    "jp-MarkdownHeadingCollapsed": true
   },
   "source": [
    "### Eniantin B1"
   ]
  },
  {
   "cell_type": "code",
   "execution_count": 136,
   "id": "89ffc536-af44-419e-910a-515d3a1f4344",
   "metadata": {},
   "outputs": [
    {
     "name": "stdout",
     "output_type": "stream",
     "text": [
      "AutoDock Vina v1.2.3\n",
      "#################################################################\n",
      "# If you used AutoDock Vina in your work, please cite:          #\n",
      "#                                                               #\n",
      "# J. Eberhardt, D. Santos-Martins, A. F. Tillack, and S. Forli  #\n",
      "# AutoDock Vina 1.2.0: New Docking Methods, Expanded Force      #\n",
      "# Field, and Python Bindings, J. Chem. Inf. Model. (2021)       #\n",
      "# DOI 10.1021/acs.jcim.1c00203                                  #\n",
      "#                                                               #\n",
      "# O. Trott, A. J. Olson,                                        #\n",
      "# AutoDock Vina: improving the speed and accuracy of docking    #\n",
      "# with a new scoring function, efficient optimization and       #\n",
      "# multithreading, J. Comp. Chem. (2010)                         #\n",
      "# DOI 10.1002/jcc.21334                                         #\n",
      "#                                                               #\n",
      "# Please see https://github.com/ccsb-scripps/AutoDock-Vina for  #\n",
      "# more information.                                             #\n",
      "#################################################################\n",
      "\n",
      "Scoring function : vinardo\n",
      "Rigid receptor: HSA_Target/2BXD/2bxd_clean.pdbqt\n",
      "Ligand: Ligand_Pubchem_Data/EnniantinB1/EnniatinB1.pdbqt\n",
      "Grid center: X 2.7 Y -6.8 Z 7.8\n",
      "Grid size  : X 24.5 Y 20.7 Z 24.5\n",
      "Grid space : 0.375\n",
      "Exhaustiveness: 32\n",
      "CPU: 0\n",
      "Verbosity: 1\n",
      "\n",
      "Computing Vinardo grid ... done.\n",
      "Performing docking (random seed: 553032027) ... \n",
      "0%   10   20   30   40   50   60   70   80   90   100%\n",
      "|----|----|----|----|----|----|----|----|----|----|\n",
      "***************************************************\n",
      "\n",
      "mode |   affinity | dist from best mode\n",
      "     | (kcal/mol) | rmsd l.b.| rmsd u.b.\n",
      "-----+------------+----------+----------\n",
      "   1       -5.701          0          0\n",
      "   2       -5.168      1.997      7.647\n",
      "   3       -4.674      1.547      2.051\n",
      "   4       -4.586      1.878       8.11\n",
      "   5       -3.733      1.789      8.185\n",
      "   6       -2.925      2.252      7.215\n",
      "   7       -2.266      2.178      6.806\n",
      "   8       -1.932      2.181       6.82\n",
      "   9       -1.505      1.735      2.891\n",
      "  10       -1.232      2.262      8.218\n",
      "  11       -1.117      2.119      6.161\n",
      "  12       -0.893      1.273      1.547\n",
      "  13      -0.6758      2.065       4.53\n",
      "  14      -0.5094      2.842      5.284\n",
      "  15      -0.3974      1.771      7.158\n",
      "  16      0.05452      2.143      6.497\n",
      "  17       0.2077      2.291      6.567\n",
      "  18        2.555      2.138      7.402\n",
      "  19        4.778      2.321      7.245\n",
      "  20        61.79      1.965      6.871\n"
     ]
    }
   ],
   "source": [
    "!vina --receptor HSA_Target/2BXD/2bxd_clean.pdbqt \\\n",
    "      --ligand Ligand_Pubchem_Data/EnniantinB1/EnniatinB1.pdbqt \\\n",
    "      --config dockprep/2bxd-site1.txt \\\n",
    "      --scoring vinardo \\\n",
    "      --exhaustiveness=32 --out Results/Site1/HOLO/ENB1-Site1.pdbqt"
   ]
  },
  {
   "cell_type": "code",
   "execution_count": 142,
   "id": "ab93466f-dd92-4582-abf2-7456ac3779ec",
   "metadata": {},
   "outputs": [
    {
     "name": "stdout",
     "output_type": "stream",
     "text": [
      "2 molecules converted\n",
      "2 files output. The first is Results/Site1/HOLO/ENB-Site1_1.pdb\n"
     ]
    }
   ],
   "source": [
    "!obabel Results/Site1/HOLO/ENB-Site1.pdbqt -O Results/Site1/HOLO/ENB-Site1_.pdb -m"
   ]
  },
  {
   "cell_type": "code",
   "execution_count": 137,
   "id": "be0ed397-f2a8-41e2-a008-040414badce0",
   "metadata": {},
   "outputs": [
    {
     "name": "stdout",
     "output_type": "stream",
     "text": [
      "AutoDock Vina v1.2.3\n",
      "#################################################################\n",
      "# If you used AutoDock Vina in your work, please cite:          #\n",
      "#                                                               #\n",
      "# J. Eberhardt, D. Santos-Martins, A. F. Tillack, and S. Forli  #\n",
      "# AutoDock Vina 1.2.0: New Docking Methods, Expanded Force      #\n",
      "# Field, and Python Bindings, J. Chem. Inf. Model. (2021)       #\n",
      "# DOI 10.1021/acs.jcim.1c00203                                  #\n",
      "#                                                               #\n",
      "# O. Trott, A. J. Olson,                                        #\n",
      "# AutoDock Vina: improving the speed and accuracy of docking    #\n",
      "# with a new scoring function, efficient optimization and       #\n",
      "# multithreading, J. Comp. Chem. (2010)                         #\n",
      "# DOI 10.1002/jcc.21334                                         #\n",
      "#                                                               #\n",
      "# Please see https://github.com/ccsb-scripps/AutoDock-Vina for  #\n",
      "# more information.                                             #\n",
      "#################################################################\n",
      "\n",
      "Scoring function : vinardo\n",
      "Rigid receptor: HSA_Target/2BXG/2bxg_clean.pdbqt\n",
      "Ligand: Ligand_Pubchem_Data/EnniantinB1/EnniatinB1.pdbqt\n",
      "Grid center: X 2 Y 4.5 Z -15\n",
      "Grid size  : X 24 Y 24 Z 24.6\n",
      "Grid space : 0.375\n",
      "Exhaustiveness: 32\n",
      "CPU: 0\n",
      "Verbosity: 1\n",
      "\n",
      "Computing Vinardo grid ... done.\n",
      "Performing docking (random seed: 734691597) ... \n",
      "0%   10   20   30   40   50   60   70   80   90   100%\n",
      "|----|----|----|----|----|----|----|----|----|----|\n",
      "***************************************************\n",
      "\n",
      "mode |   affinity | dist from best mode\n",
      "     | (kcal/mol) | rmsd l.b.| rmsd u.b.\n",
      "-----+------------+----------+----------\n",
      "   1       -5.626          0          0\n",
      "   2       -4.826      2.501      6.861\n",
      "   3       -4.574      2.954      8.104\n",
      "   4       -4.339      3.065       5.34\n",
      "   5        -4.18      2.022      5.796\n",
      "   6       -4.122      1.772      6.446\n",
      "   7       -3.963      3.663      7.926\n",
      "   8       -3.686      5.244      8.336\n",
      "   9       -3.489      3.029      7.303\n",
      "  10        -3.06      2.059      6.477\n",
      "  11       -2.923      1.967       6.42\n",
      "  12       -2.804      4.383      6.699\n",
      "  13       -2.762      4.436      8.622\n",
      "  14       -2.639      1.818      6.614\n",
      "  15       -2.565      2.323      8.321\n",
      "  16        -2.54      4.478      6.536\n",
      "  17       -2.008      4.729      7.797\n",
      "  18       -1.688      4.567      6.841\n",
      "  19      -0.9424      5.564      10.04\n",
      "  20        2.987      2.066      6.214\n"
     ]
    }
   ],
   "source": [
    "!vina --receptor HSA_Target/2BXG/2bxg_clean.pdbqt \\\n",
    "      --ligand Ligand_Pubchem_Data/EnniantinB1/EnniatinB1.pdbqt \\\n",
    "      --config dockprep/2bxg-site2.txt \\\n",
    "      --scoring vinardo \\\n",
    "      --exhaustiveness=32 --out Results/Site2/HOLO/ENB1-Site2.pdbqt"
   ]
  },
  {
   "cell_type": "code",
   "execution_count": 143,
   "id": "7132171c-297d-478c-b743-9bc86b10f4c6",
   "metadata": {},
   "outputs": [
    {
     "name": "stdout",
     "output_type": "stream",
     "text": [
      "14 molecules converted\n",
      "14 files output. The first is Results/Site2/HOLO/ENB1-Site2_1.pdb\n"
     ]
    }
   ],
   "source": [
    "!obabel Results/Site2/HOLO/ENB1-Site2.pdbqt -O Results/Site2/HOLO/ENB1-Site2_.pdb -m"
   ]
  },
  {
   "cell_type": "markdown",
   "id": "c112973a-62c3-4c79-8bb2-b49d7150b59c",
   "metadata": {
    "jp-MarkdownHeadingCollapsed": true
   },
   "source": [
    "### Warfarin"
   ]
  },
  {
   "cell_type": "code",
   "execution_count": 128,
   "id": "2364411d-2744-4c4a-a1de-0ec0b324eef1",
   "metadata": {},
   "outputs": [
    {
     "name": "stdout",
     "output_type": "stream",
     "text": [
      "AutoDock Vina v1.2.3\n",
      "#################################################################\n",
      "# If you used AutoDock Vina in your work, please cite:          #\n",
      "#                                                               #\n",
      "# J. Eberhardt, D. Santos-Martins, A. F. Tillack, and S. Forli  #\n",
      "# AutoDock Vina 1.2.0: New Docking Methods, Expanded Force      #\n",
      "# Field, and Python Bindings, J. Chem. Inf. Model. (2021)       #\n",
      "# DOI 10.1021/acs.jcim.1c00203                                  #\n",
      "#                                                               #\n",
      "# O. Trott, A. J. Olson,                                        #\n",
      "# AutoDock Vina: improving the speed and accuracy of docking    #\n",
      "# with a new scoring function, efficient optimization and       #\n",
      "# multithreading, J. Comp. Chem. (2010)                         #\n",
      "# DOI 10.1002/jcc.21334                                         #\n",
      "#                                                               #\n",
      "# Please see https://github.com/ccsb-scripps/AutoDock-Vina for  #\n",
      "# more information.                                             #\n",
      "#################################################################\n",
      "\n",
      "Scoring function : vinardo\n",
      "Rigid receptor: HSA_Target/2BXD/2bxd_clean.pdbqt\n",
      "Ligand: RCSB_Ligand/Warfarin/RWF.pdbqt\n",
      "Grid center: X 2.7 Y -6.8 Z 7.8\n",
      "Grid size  : X 24.5 Y 20.7 Z 24.5\n",
      "Grid space : 0.375\n",
      "Exhaustiveness: 32\n",
      "CPU: 0\n",
      "Verbosity: 1\n",
      "\n",
      "Computing Vinardo grid ... done.\n",
      "Performing docking (random seed: 565532738) ... \n",
      "0%   10   20   30   40   50   60   70   80   90   100%\n",
      "|----|----|----|----|----|----|----|----|----|----|\n",
      "***************************************************\n",
      "\n",
      "mode |   affinity | dist from best mode\n",
      "     | (kcal/mol) | rmsd l.b.| rmsd u.b.\n",
      "-----+------------+----------+----------\n",
      "   1       -8.045          0          0\n",
      "   2       -8.039     0.6759      2.033\n",
      "   3       -7.941      1.158      4.075\n",
      "   4       -7.668      1.711       5.45\n",
      "   5        -7.29      1.629      5.967\n",
      "   6       -7.122      1.782      3.572\n",
      "   7       -7.011      1.816      4.801\n",
      "   8        -6.91      1.778      5.571\n",
      "   9       -6.897      1.152      3.646\n",
      "  10       -6.877      1.848      5.924\n",
      "  11       -5.708      2.406      6.664\n",
      "  12       -5.591      9.791      12.59\n",
      "  13       -5.558      8.512      10.67\n",
      "  14       -5.469      1.661      5.681\n",
      "  15       -5.425      8.347      11.48\n",
      "  16       -5.294      10.38      12.91\n",
      "  17       -5.248      2.086      6.176\n",
      "  18       -5.235      8.959      11.46\n",
      "  19       -5.143      9.393      11.43\n",
      "  20       -5.057      8.582      12.15\n"
     ]
    }
   ],
   "source": [
    "!vina --receptor HSA_Target/2BXD/2bxd_clean.pdbqt \\\n",
    "      --ligand RCSB_Ligand/Warfarin/RWF.pdbqt \\\n",
    "      --config dockprep/2bxd-site1.txt \\\n",
    "      --scoring vinardo \\\n",
    "      --exhaustiveness=32 --out Results/Site1/HOLO/RWF-Site1.pdbqt"
   ]
  },
  {
   "cell_type": "code",
   "execution_count": 140,
   "id": "ebfaa3b2-dc28-4bd5-8508-6208ea5a249c",
   "metadata": {},
   "outputs": [
    {
     "name": "stdout",
     "output_type": "stream",
     "text": [
      "20 molecules converted\n",
      "20 files output. The first is Results/Site1/HOLO/RWF-Site1_1.pdb\n"
     ]
    }
   ],
   "source": [
    "!obabel Results/Site1/HOLO/RWF-Site1.pdbqt -O Results/Site1/HOLO/RWF-Site1_.pdb -m"
   ]
  },
  {
   "cell_type": "code",
   "execution_count": 138,
   "id": "0df37273-9682-4eb5-bf67-872a1c4b1864",
   "metadata": {},
   "outputs": [
    {
     "name": "stdout",
     "output_type": "stream",
     "text": [
      "AutoDock Vina v1.2.3\n",
      "#################################################################\n",
      "# If you used AutoDock Vina in your work, please cite:          #\n",
      "#                                                               #\n",
      "# J. Eberhardt, D. Santos-Martins, A. F. Tillack, and S. Forli  #\n",
      "# AutoDock Vina 1.2.0: New Docking Methods, Expanded Force      #\n",
      "# Field, and Python Bindings, J. Chem. Inf. Model. (2021)       #\n",
      "# DOI 10.1021/acs.jcim.1c00203                                  #\n",
      "#                                                               #\n",
      "# O. Trott, A. J. Olson,                                        #\n",
      "# AutoDock Vina: improving the speed and accuracy of docking    #\n",
      "# with a new scoring function, efficient optimization and       #\n",
      "# multithreading, J. Comp. Chem. (2010)                         #\n",
      "# DOI 10.1002/jcc.21334                                         #\n",
      "#                                                               #\n",
      "# Please see https://github.com/ccsb-scripps/AutoDock-Vina for  #\n",
      "# more information.                                             #\n",
      "#################################################################\n",
      "\n",
      "Scoring function : vinardo\n",
      "Rigid receptor: HSA_Target/2BXG/2bxg_clean.pdbqt\n",
      "Ligand: RCSB_Ligand/Warfarin/RWF.pdbqt\n",
      "Grid center: X 2 Y 4.5 Z -15\n",
      "Grid size  : X 24 Y 24 Z 24.6\n",
      "Grid space : 0.375\n",
      "Exhaustiveness: 32\n",
      "CPU: 0\n",
      "Verbosity: 1\n",
      "\n",
      "Computing Vinardo grid ... done.\n",
      "Performing docking (random seed: 339086489) ... \n",
      "0%   10   20   30   40   50   60   70   80   90   100%\n",
      "|----|----|----|----|----|----|----|----|----|----|\n",
      "***************************************************\n",
      "\n",
      "mode |   affinity | dist from best mode\n",
      "     | (kcal/mol) | rmsd l.b.| rmsd u.b.\n",
      "-----+------------+----------+----------\n",
      "   1       -6.311          0          0\n",
      "   2       -6.105      1.763      3.667\n",
      "   3         -5.6     0.6626      2.046\n",
      "   4       -5.457      1.576      5.399\n",
      "   5        -5.35      1.899      5.608\n",
      "   6       -5.081      1.945      5.837\n",
      "   7       -5.069      1.744      4.257\n",
      "   8       -4.991      3.513      6.254\n",
      "   9       -4.964      3.682       6.48\n",
      "  10       -4.749      1.952      6.221\n",
      "  11       -4.533      3.366      5.991\n",
      "  12       -4.439      4.833      7.436\n",
      "  13       -4.435      4.007      7.055\n",
      "  14        -4.23      6.017      9.022\n",
      "  15       -4.083      5.126      8.073\n",
      "  16       -4.082      4.174      6.894\n",
      "  17        -3.98      5.817      9.176\n",
      "  18       -3.978      6.092      9.955\n",
      "  19       -3.919      9.588      11.05\n",
      "  20       -3.839      10.13      11.95\n"
     ]
    }
   ],
   "source": [
    "!vina --receptor HSA_Target/2BXG/2bxg_clean.pdbqt \\\n",
    "      --ligand RCSB_Ligand/Warfarin/RWF.pdbqt \\\n",
    "      --config dockprep/2bxg-site2.txt \\\n",
    "      --scoring vinardo \\\n",
    "      --exhaustiveness=32 --out Results/Site2/HOLO/RWF-Site2.pdbqt"
   ]
  },
  {
   "cell_type": "code",
   "execution_count": 141,
   "id": "0a2d478d-5c67-43c6-aa43-b2ef5e38cce3",
   "metadata": {},
   "outputs": [
    {
     "name": "stdout",
     "output_type": "stream",
     "text": [
      "20 molecules converted\n",
      "20 files output. The first is Results/Site2/HOLO/RWF-Site2_1.pdb\n"
     ]
    }
   ],
   "source": [
    "!obabel Results/Site2/HOLO/RWF-Site2.pdbqt -O Results/Site2/HOLO/RWF-Site2_.pdb -m"
   ]
  },
  {
   "cell_type": "markdown",
   "id": "31e6ac59-a06d-4c71-9792-f7900f4ec929",
   "metadata": {
    "jp-MarkdownHeadingCollapsed": true
   },
   "source": [
    "### Ibuprofen"
   ]
  },
  {
   "cell_type": "code",
   "execution_count": 135,
   "id": "1138960d-b7cf-4257-a040-2c1eb94c406e",
   "metadata": {},
   "outputs": [
    {
     "name": "stdout",
     "output_type": "stream",
     "text": [
      "AutoDock Vina v1.2.3\n",
      "#################################################################\n",
      "# If you used AutoDock Vina in your work, please cite:          #\n",
      "#                                                               #\n",
      "# J. Eberhardt, D. Santos-Martins, A. F. Tillack, and S. Forli  #\n",
      "# AutoDock Vina 1.2.0: New Docking Methods, Expanded Force      #\n",
      "# Field, and Python Bindings, J. Chem. Inf. Model. (2021)       #\n",
      "# DOI 10.1021/acs.jcim.1c00203                                  #\n",
      "#                                                               #\n",
      "# O. Trott, A. J. Olson,                                        #\n",
      "# AutoDock Vina: improving the speed and accuracy of docking    #\n",
      "# with a new scoring function, efficient optimization and       #\n",
      "# multithreading, J. Comp. Chem. (2010)                         #\n",
      "# DOI 10.1002/jcc.21334                                         #\n",
      "#                                                               #\n",
      "# Please see https://github.com/ccsb-scripps/AutoDock-Vina for  #\n",
      "# more information.                                             #\n",
      "#################################################################\n",
      "\n",
      "Scoring function : vinardo\n",
      "Rigid receptor: HSA_Target/2BXD/2bxd_clean.pdbqt\n",
      "Ligand: RCSB_Ligand/Ibuprofen/IBP.pdbqt\n",
      "Grid center: X 2.7 Y -6.8 Z 7.8\n",
      "Grid size  : X 24.5 Y 20.7 Z 24.5\n",
      "Grid space : 0.375\n",
      "Exhaustiveness: 32\n",
      "CPU: 0\n",
      "Verbosity: 1\n",
      "\n",
      "Computing Vinardo grid ... done.\n",
      "Performing docking (random seed: 1360260461) ... \n",
      "0%   10   20   30   40   50   60   70   80   90   100%\n",
      "|----|----|----|----|----|----|----|----|----|----|\n",
      "***************************************************\n",
      "\n",
      "mode |   affinity | dist from best mode\n",
      "     | (kcal/mol) | rmsd l.b.| rmsd u.b.\n",
      "-----+------------+----------+----------\n",
      "   1       -6.264          0          0\n",
      "   2        -5.87      1.487      2.152\n",
      "   3       -5.864      2.799      5.805\n",
      "   4       -5.838     0.8498      1.841\n",
      "   5       -5.717      1.453      2.171\n",
      "   6       -5.696      1.402      2.188\n",
      "   7       -5.667      2.714      5.839\n",
      "   8       -5.266      4.992      6.344\n",
      "   9       -5.148      2.928      5.926\n",
      "  10       -5.137       4.46      5.497\n",
      "  11       -5.093      9.869       12.5\n",
      "  12       -5.088      9.867      12.52\n",
      "  13       -5.065      10.38      12.99\n",
      "  14       -5.017      8.551      9.777\n",
      "  15        -5.01      3.521      6.298\n",
      "  16       -4.917      1.521      2.151\n",
      "  17       -4.831      4.926      6.528\n",
      "  18       -4.798      4.501      6.006\n",
      "  19       -4.726      13.03      15.33\n",
      "  20       -4.632      2.658      4.018\n"
     ]
    }
   ],
   "source": [
    "!vina --receptor HSA_Target/2BXD/2bxd_clean.pdbqt \\\n",
    "      --ligand RCSB_Ligand/Ibuprofen/IBP.pdbqt \\\n",
    "      --config dockprep/2bxd-site1.txt \\\n",
    "      --scoring vinardo \\\n",
    "      --exhaustiveness=32 --out Results/Site1/HOLO/IBP-Site1.pdbqt"
   ]
  },
  {
   "cell_type": "code",
   "execution_count": 134,
   "id": "b713cafc-5517-44c4-8181-c6fde1529284",
   "metadata": {},
   "outputs": [
    {
     "name": "stdout",
     "output_type": "stream",
     "text": [
      "AutoDock Vina v1.2.3\n",
      "#################################################################\n",
      "# If you used AutoDock Vina in your work, please cite:          #\n",
      "#                                                               #\n",
      "# J. Eberhardt, D. Santos-Martins, A. F. Tillack, and S. Forli  #\n",
      "# AutoDock Vina 1.2.0: New Docking Methods, Expanded Force      #\n",
      "# Field, and Python Bindings, J. Chem. Inf. Model. (2021)       #\n",
      "# DOI 10.1021/acs.jcim.1c00203                                  #\n",
      "#                                                               #\n",
      "# O. Trott, A. J. Olson,                                        #\n",
      "# AutoDock Vina: improving the speed and accuracy of docking    #\n",
      "# with a new scoring function, efficient optimization and       #\n",
      "# multithreading, J. Comp. Chem. (2010)                         #\n",
      "# DOI 10.1002/jcc.21334                                         #\n",
      "#                                                               #\n",
      "# Please see https://github.com/ccsb-scripps/AutoDock-Vina for  #\n",
      "# more information.                                             #\n",
      "#################################################################\n",
      "\n",
      "Scoring function : vinardo\n",
      "Rigid receptor: HSA_Target/2BXG/2bxg_clean.pdbqt\n",
      "Ligand: RCSB_Ligand/Ibuprofen/IBP.pdbqt\n",
      "Grid center: X 2 Y 4.5 Z -15\n",
      "Grid size  : X 24 Y 24 Z 24.6\n",
      "Grid space : 0.375\n",
      "Exhaustiveness: 32\n",
      "CPU: 0\n",
      "Verbosity: 1\n",
      "\n",
      "Computing Vinardo grid ... done.\n",
      "Performing docking (random seed: 417869679) ... \n",
      "0%   10   20   30   40   50   60   70   80   90   100%\n",
      "|----|----|----|----|----|----|----|----|----|----|\n",
      "***************************************************\n",
      "\n",
      "mode |   affinity | dist from best mode\n",
      "     | (kcal/mol) | rmsd l.b.| rmsd u.b.\n",
      "-----+------------+----------+----------\n",
      "   1       -6.569          0          0\n",
      "   2       -6.552     0.5529      1.552\n",
      "   3       -6.499      1.558      1.921\n",
      "   4       -6.348      3.436      6.234\n",
      "   5       -6.294      1.467      2.262\n",
      "   6       -6.246        3.1      6.076\n",
      "   7       -5.987      3.097      5.952\n",
      "   8       -5.976      1.352      2.277\n",
      "   9       -5.963      2.816      5.965\n",
      "  10       -5.776      1.368       2.28\n",
      "  11       -5.217      2.904      6.582\n",
      "  12       -5.187      3.864      5.773\n",
      "  13       -4.906      3.331      6.247\n",
      "  14       -4.871      3.028      5.302\n",
      "  15        -4.81      1.932      3.576\n",
      "  16       -4.802      11.75      12.65\n",
      "  17       -4.721      4.135      6.692\n",
      "  18       -4.521      12.55      14.14\n",
      "  19       -4.513      11.41       12.3\n",
      "  20       -4.328      2.583      6.093\n"
     ]
    }
   ],
   "source": [
    "!vina --receptor HSA_Target/2BXG/2bxg_clean.pdbqt \\\n",
    "      --ligand RCSB_Ligand/Ibuprofen/IBP.pdbqt \\\n",
    "      --config dockprep/2bxg-site2.txt \\\n",
    "      --scoring vinardo \\\n",
    "      --exhaustiveness=32 --out Results/Site2/HOLO/IBP-Site2.pdbqt"
   ]
  },
  {
   "cell_type": "markdown",
   "id": "d3496f70-5844-4be6-8b47-ef312ade62ac",
   "metadata": {},
   "source": [
    "## APO"
   ]
  },
  {
   "cell_type": "markdown",
   "id": "f3c7cb41-5d8c-476a-aef4-97ae66b3f68e",
   "metadata": {},
   "source": [
    "# PLIP"
   ]
  },
  {
   "cell_type": "code",
   "execution_count": null,
   "id": "5c27609c-5439-43fe-a660-14a33a308b79",
   "metadata": {},
   "outputs": [],
   "source": [
    "!plip -f Results/4l9k-CC-Site1/complex_4l9k_cc_site1_1.pdb -o results/4l9k-CC-Site1/"
   ]
  },
  {
   "cell_type": "code",
   "execution_count": null,
   "id": "74428901-9ccf-4b89-aa8e-237bf321a0e0",
   "metadata": {},
   "outputs": [],
   "source": []
  },
  {
   "cell_type": "code",
   "execution_count": null,
   "id": "10192812-f32e-47d9-9707-f5d53ec3ddee",
   "metadata": {},
   "outputs": [],
   "source": []
  },
  {
   "cell_type": "code",
   "execution_count": null,
   "id": "236c2b58-f49c-45b8-8d40-a9f434867b65",
   "metadata": {},
   "outputs": [],
   "source": []
  },
  {
   "cell_type": "code",
   "execution_count": null,
   "id": "0879ac3d-76d5-4cd4-b5fd-67fbd747aa0e",
   "metadata": {},
   "outputs": [],
   "source": []
  },
  {
   "cell_type": "code",
   "execution_count": 15,
   "id": "11d78eee-b2fa-4f38-8da9-298d213a71c5",
   "metadata": {},
   "outputs": [
    {
     "name": "stdout",
     "output_type": "stream",
     "text": [
      "None\n",
      "2025-08-26 11:46:37,713 [INFO] [plipcmd.py:134] plip.plipcmd: Protein-Ligand Interaction Profiler (PLIP) 2.4.0\n",
      "2025-08-26 11:46:37,713 [INFO] [plipcmd.py:135] plip.plipcmd: brought to you by: PharmAI GmbH (2020-2021) - www.pharm.ai - hello@pharm.ai\n",
      "2025-08-26 11:46:37,714 [INFO] [plipcmd.py:136] plip.plipcmd: please cite: Adasme,M. et al. PLIP 2021: expanding the scope of the protein-ligand interaction profiler to DNA and RNA. Nucl. Acids Res. (05 May 2021), gkab294. doi: 10.1093/nar/gkab294\n",
      "2025-08-26 11:46:37,715 [INFO] [plipcmd.py:60] plip.plipcmd: starting analysis of complex_4l9k_cc_site1_1.pdb\n",
      "2025-08-26 11:46:38,672 [INFO] [plipcmd.py:175] plip.plipcmd: finished analysis, find the result files in results/4l9k-CC-Site1/\n"
     ]
    }
   ],
   "source": [
    "!plip -f Results/4l9k-CC-Site1/complex_4l9k_cc_site1_1.pdb -o results/4l9k-CC-Site1/"
   ]
  },
  {
   "cell_type": "code",
   "execution_count": null,
   "id": "7b29b57f-286c-470c-949a-7e92fbe8c891",
   "metadata": {},
   "outputs": [],
   "source": []
  }
 ],
 "metadata": {
  "kernelspec": {
   "display_name": "Python 3 (ipykernel)",
   "language": "python",
   "name": "python3"
  },
  "language_info": {
   "codemirror_mode": {
    "name": "ipython",
    "version": 3
   },
   "file_extension": ".py",
   "mimetype": "text/x-python",
   "name": "python",
   "nbconvert_exporter": "python",
   "pygments_lexer": "ipython3",
   "version": "3.11.0rc1"
  }
 },
 "nbformat": 4,
 "nbformat_minor": 5
}
