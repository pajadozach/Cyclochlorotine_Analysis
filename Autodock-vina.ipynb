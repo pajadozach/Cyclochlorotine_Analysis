{
 "cells": [
  {
   "cell_type": "code",
   "execution_count": 21,
   "id": "b7dfb1e2-97cc-49ad-8f06-37250c059c34",
   "metadata": {},
   "outputs": [
    {
     "name": "stdout",
     "output_type": "stream",
     "text": [
      "Requirement already satisfied: pip in /usr/local/lib/python3.11/dist-packages (25.2)\n",
      "\u001b[33mWARNING: Running pip as the 'root' user can result in broken permissions and conflicting behaviour with the system package manager, possibly rendering your system unusable. It is recommended to use a virtual environment instead: https://pip.pypa.io/warnings/venv. Use the --root-user-action option if you know what you are doing and want to suppress this warning.\u001b[0m\u001b[33m\n",
      "Reading package lists... Done\n",
      "Building dependency tree... Done\n",
      "Reading state information... Done\n",
      "\u001b[1;31mE: \u001b[0mUnable to locate package autogrid4\u001b[0m\n"
     ]
    }
   ],
   "source": [
    "!python3 -m pip install --upgrade pip\n",
    "!apt install autodock-vina -y autogrid4"
   ]
  },
  {
   "cell_type": "code",
   "execution_count": 22,
   "id": "fe5f08ab-b281-403b-af80-3f5cd3e74195",
   "metadata": {},
   "outputs": [
    {
     "name": "stdout",
     "output_type": "stream",
     "text": [
      "AutoDock Vina v1.2.3\n",
      "#################################################################\n",
      "# If you used AutoDock Vina in your work, please cite:          #\n",
      "#                                                               #\n",
      "# J. Eberhardt, D. Santos-Martins, A. F. Tillack, and S. Forli  #\n",
      "# AutoDock Vina 1.2.0: New Docking Methods, Expanded Force      #\n",
      "# Field, and Python Bindings, J. Chem. Inf. Model. (2021)       #\n",
      "# DOI 10.1021/acs.jcim.1c00203                                  #\n",
      "#                                                               #\n",
      "# O. Trott, A. J. Olson,                                        #\n",
      "# AutoDock Vina: improving the speed and accuracy of docking    #\n",
      "# with a new scoring function, efficient optimization and       #\n",
      "# multithreading, J. Comp. Chem. (2010)                         #\n",
      "# DOI 10.1002/jcc.21334                                         #\n",
      "#                                                               #\n",
      "# Please see https://github.com/ccsb-scripps/AutoDock-Vina for  #\n",
      "# more information.                                             #\n",
      "#################################################################\n",
      "\n",
      "Scoring function : vina\n",
      "Rigid receptor: HSA_Target/4L9K/4l9k.pdbqt\n",
      "Ligand: Ligand_Pubchem_Data/Cyclochlorotine/3D/Cyclochlorotine3D.pdbqt\n",
      "Grid center: X -8.4765 Y -8.007 Z 8.904\n",
      "Grid size  : X 18.213 Y 16.894 Z 18.856\n",
      "Grid space : 0.375\n",
      "Exhaustiveness: 32\n",
      "CPU: 0\n",
      "Verbosity: 1\n",
      "\n",
      "Computing Vina grid ... done.\n",
      "Performing docking (random seed: 411499056) ... \n",
      "0%   10   20   30   40   50   60   70   80   90   100%\n",
      "|----|----|----|----|----|----|----|----|----|----|\n",
      "***************************************************\n",
      "\n",
      "mode |   affinity | dist from best mode\n",
      "     | (kcal/mol) | rmsd l.b.| rmsd u.b.\n",
      "-----+------------+----------+----------\n",
      "   1       -6.884          0          0\n",
      "   2       -6.165      1.916      4.843\n",
      "   3       -6.016      3.354      8.522\n",
      "   4       -6.003      4.881      8.799\n",
      "   5       -5.583      5.007      7.529\n",
      "   6       -5.139      3.833      6.908\n",
      "   7       -4.765      4.697      7.896\n",
      "   8       -4.689       3.79      7.573\n",
      "   9       -4.304      1.623      1.794\n"
     ]
    }
   ],
   "source": [
    "!vina --receptor HSA_Target/4L9K/4l9k.pdbqt \\\n",
    "      --ligand Ligand_Pubchem_Data/Cyclochlorotine/3D/Cyclochlorotine3D.pdbqt \\\n",
    "      --config dockprep/4l9k-CC-Site1.txt \\\n",
    "      --exhaustiveness=32 --out results/4l9k_cc_site1.pdbqt"
   ]
  },
  {
   "cell_type": "code",
   "execution_count": null,
   "id": "88729bc2-8ab0-44b2-a927-dab3008a9cab",
   "metadata": {},
   "outputs": [],
   "source": []
  }
 ],
 "metadata": {
  "kernelspec": {
   "display_name": "Python 3 (ipykernel)",
   "language": "python",
   "name": "python3"
  },
  "language_info": {
   "codemirror_mode": {
    "name": "ipython",
    "version": 3
   },
   "file_extension": ".py",
   "mimetype": "text/x-python",
   "name": "python",
   "nbconvert_exporter": "python",
   "pygments_lexer": "ipython3",
   "version": "3.11.0rc1"
  }
 },
 "nbformat": 4,
 "nbformat_minor": 5
}
