{
 "cells": [
  {
   "cell_type": "code",
   "execution_count": 1,
   "id": "0a163444-1b57-4b40-9205-a1871c49ba46",
   "metadata": {},
   "outputs": [
    {
     "name": "stdout",
     "output_type": "stream",
     "text": [
      "Collecting acpype\n",
      "  Downloading acpype-2023.10.27-py3-none-any.whl.metadata (12 kB)\n",
      "Requirement already satisfied: openbabel-wheel<4.0.0.0,>=3.1.1.19 in /usr/local/lib/python3.11/dist-packages (from acpype) (3.1.1.22)\n",
      "Downloading acpype-2023.10.27-py3-none-any.whl (28.5 MB)\n",
      "\u001b[2K   \u001b[90m━━━━━━━━━━━━━━━━━━━━━━━━━━━━━━━━━━━━━━━━\u001b[0m \u001b[32m28.5/28.5 MB\u001b[0m \u001b[31m3.2 MB/s\u001b[0m  \u001b[33m0:00:08\u001b[0mm0:00:01\u001b[0m00:01\u001b[0m\n",
      "\u001b[?25hInstalling collected packages: acpype\n",
      "Successfully installed acpype-2023.10.27\n",
      "\u001b[33mWARNING: Running pip as the 'root' user can result in broken permissions and conflicting behaviour with the system package manager, possibly rendering your system unusable. It is recommended to use a virtual environment instead: https://pip.pypa.io/warnings/venv. Use the --root-user-action option if you know what you are doing and want to suppress this warning.\u001b[0m\u001b[33m\n",
      "\u001b[0m"
     ]
    }
   ],
   "source": [
    "!pip install acpype"
   ]
  },
  {
   "cell_type": "code",
   "execution_count": null,
   "id": "21446f14-86ab-48e9-8670-e637f54cc91e",
   "metadata": {},
   "outputs": [],
   "source": []
  }
 ],
 "metadata": {
  "kernelspec": {
   "display_name": "Python 3 (ipykernel)",
   "language": "python",
   "name": "python3"
  },
  "language_info": {
   "codemirror_mode": {
    "name": "ipython",
    "version": 3
   },
   "file_extension": ".py",
   "mimetype": "text/x-python",
   "name": "python",
   "nbconvert_exporter": "python",
   "pygments_lexer": "ipython3",
   "version": "3.11.0rc1"
  }
 },
 "nbformat": 4,
 "nbformat_minor": 5
}
