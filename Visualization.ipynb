{
 "cells": [
  {
   "cell_type": "code",
   "execution_count": 1,
   "id": "0706c3ce-c7de-4d4d-bc3c-114346fe4d44",
   "metadata": {},
   "outputs": [
    {
     "name": "stdout",
     "output_type": "stream",
     "text": [
      "Collecting rdkit-pypi\n",
      "  Downloading rdkit_pypi-2022.9.5-cp311-cp311-manylinux_2_17_x86_64.manylinux2014_x86_64.whl.metadata (3.9 kB)\n",
      "Requirement already satisfied: numpy in /usr/local/lib/python3.11/dist-packages (from rdkit-pypi) (1.26.4)\n",
      "Requirement already satisfied: Pillow in /usr/local/lib/python3.11/dist-packages (from rdkit-pypi) (10.4.0)\n",
      "Downloading rdkit_pypi-2022.9.5-cp311-cp311-manylinux_2_17_x86_64.manylinux2014_x86_64.whl (29.4 MB)\n",
      "\u001b[2K   \u001b[90m━━━━━━━━━━━━━━━━━━━━━━━━━━━━━━━━━━━━━━━━\u001b[0m \u001b[32m29.4/29.4 MB\u001b[0m \u001b[31m3.4 MB/s\u001b[0m  \u001b[33m0:00:08\u001b[0mm0:00:01\u001b[0m00:01\u001b[0m\n",
      "\u001b[?25hInstalling collected packages: rdkit-pypi\n",
      "Successfully installed rdkit-pypi-2022.9.5\n",
      "\u001b[33mWARNING: Running pip as the 'root' user can result in broken permissions and conflicting behaviour with the system package manager, possibly rendering your system unusable. It is recommended to use a virtual environment instead: https://pip.pypa.io/warnings/venv. Use the --root-user-action option if you know what you are doing and want to suppress this warning.\u001b[0m\u001b[33m\n",
      "\u001b[0m"
     ]
    }
   ],
   "source": [
    "!pip install rdkit-pypi"
   ]
  },
  {
   "cell_type": "code",
   "execution_count": 47,
   "id": "49337514-15ed-43cc-95bf-fdd52b4032fc",
   "metadata": {},
   "outputs": [],
   "source": [
    "from rdkit import Chem\n",
    "from rdkit.Chem import Draw\n",
    "from pathlib import Path\n",
    "from IPython.display import Image, SVG\n",
    "from rdkit.Chem import rdDepictor\n",
    "from PIL import Image, ImageDraw, ImageFont"
   ]
  },
  {
   "cell_type": "code",
   "execution_count": 141,
   "id": "b34f23ca-1439-483f-87eb-1065a3176fe5",
   "metadata": {},
   "outputs": [],
   "source": [
    "ENA = \"Ligand_Pubchem_Data/EnniantinA/Structure2D_COMPOUND_CID_57339252.sdf\"\n",
    "ENA1 = \"Ligand_Pubchem_Data/EnniantinA1/Structure2D_COMPOUND_CID_57339253.sdf\"\n",
    "ENB = \"Ligand_Pubchem_Data/EnniantinB/Structure2D_COMPOUND_CID_164754.sdf\"\n",
    "ENB1 = \"Ligand_Pubchem_Data/EnniantinB1/Structure2D_COMPOUND_CID_11262300.sdf\"\n",
    "IBP = \"RCSB_Ligand/Ibuprofen/IBP_2d.sdf\"\n",
    "RWF = \"RCSB_Ligand/Warfarin/RWF_2d.sdf\""
   ]
  },
  {
   "cell_type": "code",
   "execution_count": 142,
   "id": "f2660b36-f9dc-4c04-93d6-1527311ec517",
   "metadata": {},
   "outputs": [],
   "source": [
    "rdDepictor.SetPreferCoordGen(True)\n",
    "\n",
    "molENA = Chem.SDMolSupplier(ENA, removeHs=False)[0]\n",
    "molENA1 = Chem.SDMolSupplier(ENA1, removeHs=False)[0]\n",
    "molENB = Chem.SDMolSupplier(ENB, removeHs=False)[0]\n",
    "molENB1 = Chem.SDMolSupplier(ENB1, removeHs=False)[0]\n",
    "molIBP = Chem.SDMolSupplier(IBP, removeHs=False)[0]\n",
    "molRWF = Chem.SDMolSupplier(RWF, removeHs=False)[0]\n",
    "\n",
    "Chem.rdDepictor.Compute2DCoords(molENA)\n",
    "Chem.rdDepictor.Compute2DCoords(molENA1)\n",
    "Chem.rdDepictor.Compute2DCoords(molENB)\n",
    "Chem.rdDepictor.Compute2DCoords(molENB1)\n",
    "Chem.rdDepictor.Compute2DCoords(molIBP)\n",
    "Chem.rdDepictor.Compute2DCoords(molRWF)\n",
    "\n",
    "Draw.MolToImage(molENA, size=(400,400))\n",
    "Draw.MolToImage(molENA1, size=(400,400))\n",
    "Draw.MolToImage(molENB, size=(400,400))\n",
    "Draw.MolToImage(molENB1, size=(400,400))\n",
    "Draw.MolToImage(molIBP, size=(400,400))\n",
    "Draw.MolToImage(molRWF, size=(400,400))\n",
    "\n",
    "Draw.MolToFile(molENA, \"Results/Figures/ENA.svg\", size=(400,400))\n",
    "Draw.MolToFile(molENA1, \"Results/Figures/ENA1.svg\", size=(400,400))\n",
    "Draw.MolToFile(molENB, \"Results/Figures/ENB.svg\", size=(400,400))\n",
    "Draw.MolToFile(molENB1, \"Results/Figures/ENB1.svg\", size=(400,400))\n",
    "Draw.MolToFile(molIBP, \"Results/Figures/IBP.svg\", size=(400,400))\n",
    "Draw.MolToFile(molRWF, \"Results/Figures/RWF.svg\", size=(400,400))"
   ]
  },
  {
   "cell_type": "code",
   "execution_count": null,
   "id": "10c77254-2656-4930-b7ab-6815e02556ea",
   "metadata": {},
   "outputs": [],
   "source": []
  }
 ],
 "metadata": {
  "kernelspec": {
   "display_name": "Python 3 (ipykernel)",
   "language": "python",
   "name": "python3"
  },
  "language_info": {
   "codemirror_mode": {
    "name": "ipython",
    "version": 3
   },
   "file_extension": ".py",
   "mimetype": "text/x-python",
   "name": "python",
   "nbconvert_exporter": "python",
   "pygments_lexer": "ipython3",
   "version": "3.11.0rc1"
  }
 },
 "nbformat": 4,
 "nbformat_minor": 5
}
